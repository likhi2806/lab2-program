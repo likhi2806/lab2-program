{
 "cells": [
  {
   "cell_type": "code",
   "execution_count": 1,
   "metadata": {},
   "outputs": [],
   "source": [
    "import csv"
   ]
  },
  {
   "cell_type": "code",
   "execution_count": 2,
   "metadata": {},
   "outputs": [],
   "source": [
    "file = open(\"likhith.csv\")"
   ]
  },
  {
   "cell_type": "code",
   "execution_count": 3,
   "metadata": {},
   "outputs": [],
   "source": [
    "data = list(csv.reader(file))[1:]"
   ]
  },
  {
   "cell_type": "code",
   "execution_count": 4,
   "metadata": {},
   "outputs": [],
   "source": [
    "concepts = []\n",
    "target = []"
   ]
  },
  {
   "cell_type": "code",
   "execution_count": 10,
   "metadata": {},
   "outputs": [],
   "source": [
    "for i in data:\n",
    "    concepts.append(i[:-1])\n",
    "    target.append(i[-1])\n",
    "specific=['0']*len(concepts[0])\n",
    "general=[['?' for i in range (len(specific))] for i in range (len(specific))]"
   ]
  },
  {
   "cell_type": "code",
   "execution_count": null,
   "metadata": {},
   "outputs": [],
   "source": []
  },
  {
   "cell_type": "code",
   "execution_count": null,
   "metadata": {},
   "outputs": [],
   "source": []
  },
  {
   "cell_type": "code",
   "execution_count": null,
   "metadata": {},
   "outputs": [],
   "source": []
  },
  {
   "cell_type": "code",
   "execution_count": 15,
   "metadata": {},
   "outputs": [],
   "source": [
    "for i,instance in enumerate (concepts):\n",
    "    if target[i] == \"malignant\":\n",
    "        for x in range (len(specific)):\n",
    "            if specific[x] == '0':\n",
    "                specific[x] = instance[x]\n",
    "            elif instance[x]!=specific[x] :\n",
    "                specific[x] = '?'\n",
    "                general[x][x] = '?'\n",
    "    if target[i] =='benign':\n",
    "        for x in range (len(specific)):\n",
    "            if instance[x]!= specific[x] :\n",
    "                general[x][x] = specific[x]\n",
    "            else:\n",
    "                general[x][x] = '?'"
   ]
  },
  {
   "cell_type": "code",
   "execution_count": 16,
   "metadata": {},
   "outputs": [],
   "source": [
    "indices = [i for i,val in enumerate(general) if val==['?']*len(concepts[0])]"
   ]
  },
  {
   "cell_type": "code",
   "execution_count": 17,
   "metadata": {},
   "outputs": [],
   "source": [
    "for i in indices:\n",
    "    general.remove(['?']*len(concepts[0]))"
   ]
  },
  {
   "cell_type": "code",
   "execution_count": 18,
   "metadata": {},
   "outputs": [
    {
     "name": "stdout",
     "output_type": "stream",
     "text": [
      "specific ['?', 'large', 'light', '?', 'thick']\n",
      "general [['?', 'large', '?', '?', '?']]\n"
     ]
    }
   ],
   "source": [
    "print('specific',specific)\n",
    "print('general',general)"
   ]
  },
  {
   "cell_type": "code",
   "execution_count": null,
   "metadata": {},
   "outputs": [],
   "source": []
  },
  {
   "cell_type": "code",
   "execution_count": null,
   "metadata": {},
   "outputs": [],
   "source": []
  }
 ],
 "metadata": {
  "kernelspec": {
   "display_name": "Python 3",
   "language": "python",
   "name": "python3"
  },
  "language_info": {
   "codemirror_mode": {
    "name": "ipython",
    "version": 3
   },
   "file_extension": ".py",
   "mimetype": "text/x-python",
   "name": "python",
   "nbconvert_exporter": "python",
   "pygments_lexer": "ipython3",
   "version": "3.5.6"
  }
 },
 "nbformat": 4,
 "nbformat_minor": 2
}
